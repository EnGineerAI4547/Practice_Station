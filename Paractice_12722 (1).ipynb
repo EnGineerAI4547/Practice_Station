{
 "cells": [
  {
   "cell_type": "markdown",
   "metadata": {},
   "source": [
    "# Practice 12/7/22: Practicing Python Input Verification\n",
    "### For today's practice we are fleshing out one building block, user input,of what will eventually be a python tic tac toc game\n"
   ]
  },
  {
   "cell_type": "markdown",
   "metadata": {},
   "source": [
    "## Define a function to take user input :"
   ]
  },
  {
   "cell_type": "code",
   "execution_count": 3,
   "metadata": {},
   "outputs": [],
   "source": [
    "#ion the function we dont need to take any input as parameters. Only give output \n",
    "def user_input():\n",
    "    # we'll need values to keep the loop going until two conditions are met:\n",
    "    # 1.) user input is verified as an int and 2.) user input is in an acceptable range\n",
    "    \n",
    "    #flag variable \n",
    "    choice=\"false\"\n",
    "    range_check=False\n",
    "    acceptable_range=range(1,9)\n",
    "    \n",
    "    \n",
    "        \n",
    "    \n",
    "    while choice.isdigit()==False or range_check==False:\n",
    "        choice=input(\"Please select a position from (1-9):\")\n",
    "        \n",
    "        \n",
    "        if choice.isdigit()==False:\n",
    "            print(\"Sorry, incorrect input format! Please try again.\")\n",
    "        \n",
    "        if choice.isdigit()==True:\n",
    "            if int(choice) in acceptable_range:\n",
    "                range_check=True\n",
    "            else:\n",
    "                print(\"Sorry the number you chose is not in the accepted range! \")\n",
    "                print(\"Please try again!\")\n",
    "                pass\n",
    "    \n",
    "            \n",
    "    return int(choice)    \n",
    "        "
   ]
  },
  {
   "cell_type": "markdown",
   "metadata": {},
   "source": [
    "# Function call "
   ]
  },
  {
   "cell_type": "code",
   "execution_count": 4,
   "metadata": {},
   "outputs": [
    {
     "name": "stdout",
     "output_type": "stream",
     "text": [
      "Please select a position from (1-9):one\n",
      "Sorry, incorrect input format! Please try again.\n",
      "Please select a position from (1-9):100\n",
      "Sorry the number you chose is not in the accepted range! \n",
      "Please try again!\n",
      "Please select a position from (1-9):2\n"
     ]
    },
    {
     "data": {
      "text/plain": [
       "2"
      ]
     },
     "execution_count": 4,
     "metadata": {},
     "output_type": "execute_result"
    }
   ],
   "source": [
    "user_input()"
   ]
  }
 ],
 "metadata": {
  "kernelspec": {
   "display_name": "Python 3",
   "language": "python",
   "name": "python3"
  },
  "language_info": {
   "codemirror_mode": {
    "name": "ipython",
    "version": 3
   },
   "file_extension": ".py",
   "mimetype": "text/x-python",
   "name": "python",
   "nbconvert_exporter": "python",
   "pygments_lexer": "ipython3",
   "version": "3.8.5"
  }
 },
 "nbformat": 4,
 "nbformat_minor": 4
}
