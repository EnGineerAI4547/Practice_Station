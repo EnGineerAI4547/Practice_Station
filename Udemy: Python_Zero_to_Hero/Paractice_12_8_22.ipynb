{
 "cells": [
  {
   "cell_type": "markdown",
   "metadata": {},
   "source": [
    "# Practice 12/8/22: Practicing Python Input Verification\n",
    "### For today's practice we are fleshing out one building block, user input,of what will eventually be a python tic tac toc game\n"
   ]
  },
  {
   "cell_type": "markdown",
   "metadata": {},
   "source": [
    "# 12-7-22 Practice ---------------------------------------------------------------------------------------"
   ]
  },
  {
   "cell_type": "markdown",
   "metadata": {},
   "source": [
    "## Define a function to take user input :"
   ]
  },
  {
   "cell_type": "code",
   "execution_count": 3,
   "metadata": {},
   "outputs": [],
   "source": [
    "#ion the function we dont need to take any input as parameters. Only give output \n",
    "def user_input():\n",
    "    # we'll need values to keep the loop going until two conditions are met:\n",
    "    # 1.) user input is verified as an int and 2.) user input is in an acceptable range\n",
    "    \n",
    "    #flag variable \n",
    "    choice=\"false\"\n",
    "    range_check=False\n",
    "    acceptable_range=range(1,9)\n",
    "    \n",
    "    \n",
    "        \n",
    "    \n",
    "    while choice.isdigit()==False or range_check==False:\n",
    "        choice=input(\"Please select a position from (1-9):\")\n",
    "        \n",
    "        \n",
    "        if choice.isdigit()==False:\n",
    "            print(\"Sorry, incorrect input format! Please try again.\")\n",
    "        \n",
    "        if choice.isdigit()==True:\n",
    "            if int(choice) in acceptable_range:\n",
    "                range_check=True\n",
    "            else:\n",
    "                print(\"Sorry the number you chose is not in the accepted range! \")\n",
    "                print(\"Please try again!\")\n",
    "                pass\n",
    "    \n",
    "            \n",
    "    return int(choice)    \n",
    "        "
   ]
  },
  {
   "cell_type": "markdown",
   "metadata": {},
   "source": [
    "# Function call "
   ]
  },
  {
   "cell_type": "code",
   "execution_count": 4,
   "metadata": {
    "scrolled": true
   },
   "outputs": [
    {
     "name": "stdout",
     "output_type": "stream",
     "text": [
      "Please select a position from (1-9):one\n",
      "Sorry, incorrect input format! Please try again.\n",
      "Please select a position from (1-9):100\n",
      "Sorry the number you chose is not in the accepted range! \n",
      "Please try again!\n",
      "Please select a position from (1-9):2\n"
     ]
    },
    {
     "data": {
      "text/plain": [
       "2"
      ]
     },
     "execution_count": 4,
     "metadata": {},
     "output_type": "execute_result"
    }
   ],
   "source": [
    "user_input()"
   ]
  },
  {
   "cell_type": "markdown",
   "metadata": {},
   "source": [
    "# End of 12-7-22 Practice -----------------------------------------------------------------------------"
   ]
  },
  {
   "cell_type": "markdown",
   "metadata": {},
   "source": [
    "# 12-8-22 Practice ---------------------------------------------------------------------------------------"
   ]
  },
  {
   "cell_type": "markdown",
   "metadata": {},
   "source": [
    "# The following is from the Udemy Python Zero to Hero course\n",
    "\n",
    "## In today's lesson we are focused on gathering basic user input "
   ]
  },
  {
   "cell_type": "code",
   "execution_count": 1,
   "metadata": {},
   "outputs": [],
   "source": [
    "# First create list\n",
    "# Get user index of list \n",
    "# Get string user wishes to replace index with \n",
    "# Display changed index \n",
    "# Ask user if they wish to continue "
   ]
  },
  {
   "cell_type": "code",
   "execution_count": 4,
   "metadata": {},
   "outputs": [
    {
     "name": "stdout",
     "output_type": "stream",
     "text": [
      "This is the game board:\n",
      "['0', '1', '2']\n"
     ]
    }
   ],
   "source": [
    "#list function takes a list and prints it \n",
    "\n",
    "list1=[\"0\",\"1\",\"2\"]\n",
    "\n",
    "def list_display(list1):\n",
    "    print(\"This is the game board:\")\n",
    "    print(list1)\n",
    "\n",
    "list_display(list1)"
   ]
  },
  {
   "cell_type": "code",
   "execution_count": 6,
   "metadata": {},
   "outputs": [],
   "source": [
    "# now we ask the user for a replacement, verify the replacement is a string within range, and display the updated list"
   ]
  },
  {
   "cell_type": "code",
   "execution_count": 8,
   "metadata": {},
   "outputs": [
    {
     "name": "stdout",
     "output_type": "stream",
     "text": [
      "Please give choose a number (0,1,2) on the game board to replace:one\n",
      "Sorry, invalid choice!\n",
      "Please give choose a number (0,1,2) on the game board to replace:two\n",
      "Sorry, invalid choice!\n",
      "Please give choose a number (0,1,2) on the game board to replace:5\n",
      "Sorry, invalid choice!\n",
      "Please give choose a number (0,1,2) on the game board to replace:1\n"
     ]
    },
    {
     "data": {
      "text/plain": [
       "'1'"
      ]
     },
     "execution_count": 8,
     "metadata": {},
     "output_type": "execute_result"
    }
   ],
   "source": [
    "# function will take a list, range of accepted values, and a flag for input validation\n",
    "def get_num(list1):\n",
    "    accepted1=list1\n",
    "    val=\"false\" \n",
    "    \n",
    "    \n",
    "    while val not in accepted1:\n",
    "        val=input(\"Please give choose a number (0,1,2) on the game board to replace:\")\n",
    "        \n",
    "        if val not in accepted1:\n",
    "            print(\"Sorry, invalid choice!\")\n",
    "    return int(val)\n",
    "\n",
    "get_num(list1)\n",
    "    \n",
    "        "
   ]
  },
  {
   "cell_type": "code",
   "execution_count": 9,
   "metadata": {},
   "outputs": [],
   "source": [
    "# now we ask for the input that will replace modify the index "
   ]
  },
  {
   "cell_type": "code",
   "execution_count": 11,
   "metadata": {},
   "outputs": [
    {
     "name": "stdout",
     "output_type": "stream",
     "text": [
      "Please choose a word to place on the game board:two\n"
     ]
    },
    {
     "data": {
      "text/plain": [
       "['0', 'two', '2']"
      ]
     },
     "execution_count": 11,
     "metadata": {},
     "output_type": "execute_result"
    }
   ],
   "source": [
    "# we need a function that takes in our list, that takes in user index choice, and returns the modifieed list \n",
    "\n",
    "def board_update(list1,val):\n",
    "    \n",
    "    user_place=input(\"Please choose a word to place on the game board:\")\n",
    "    \n",
    "    list1[val]=user_place\n",
    "    \n",
    "    return list1\n",
    "        \n",
    "    \n",
    "board_update(list1,1)"
   ]
  },
  {
   "cell_type": "code",
   "execution_count": 12,
   "metadata": {},
   "outputs": [],
   "source": [
    "# Now we ask user if they want to cotinue the game"
   ]
  },
  {
   "cell_type": "code",
   "execution_count": 37,
   "metadata": {},
   "outputs": [],
   "source": [
    "# define a function that asks the user y or n if they want to continue playing and updates a while loop copndition\n",
    "\n",
    "\n",
    "def gameon():\n",
    "    \n",
    "    accepted2=[\"Y\",\"N\"]\n",
    "    choice=\"false\" \n",
    "    \n",
    "    \n",
    "    while choice not in accepted2:\n",
    "        choice=input(\"Would you like to continue the game? (Y or N)?\")\n",
    "        \n",
    "        if choice not in accepted2:\n",
    "            #clear_output()\n",
    "            print(\"Sorry, invalid choice!\")\n",
    "            \n",
    "            \n",
    "    if choice==\"Y\":\n",
    "        return True \n",
    "    else:\n",
    "        return False\n",
    "\n",
    "        \n"
   ]
  },
  {
   "cell_type": "code",
   "execution_count": 27,
   "metadata": {},
   "outputs": [
    {
     "name": "stdout",
     "output_type": "stream",
     "text": [
      "Would you like to continue the game? (Y or N)?y\n"
     ]
    },
    {
     "data": {
      "text/plain": [
       "True"
      ]
     },
     "execution_count": 27,
     "metadata": {},
     "output_type": "execute_result"
    }
   ],
   "source": [
    "gameon()"
   ]
  },
  {
   "cell_type": "code",
   "execution_count": 38,
   "metadata": {},
   "outputs": [
    {
     "name": "stdout",
     "output_type": "stream",
     "text": [
      "Would you like to continue the game? (Y or N)?n\n",
      "Sorry, invalid choice!\n",
      "Would you like to continue the game? (Y or N)?N\n"
     ]
    }
   ],
   "source": [
    "\n",
    "game_con1=True    \n",
    "while game_con1:\n",
    "    game_con1=gameon() "
   ]
  },
  {
   "cell_type": "code",
   "execution_count": 32,
   "metadata": {},
   "outputs": [],
   "source": [
    "\n",
    "def gameon_choice():\n",
    "    \n",
    "    # This original choice value can be anything that isn't a Y or N\n",
    "    choice = 'wrong'\n",
    "    \n",
    "    # While the choice is not a digit, keep asking for input.\n",
    "    while choice not in ['Y','N']:\n",
    "        \n",
    "        # we shouldn't convert here, otherwise we get an error on a wrong input\n",
    "        choice = input(\"Would you like to keep playing? Y or N \")\n",
    "\n",
    "        \n",
    "        if choice not in ['Y','N']:\n",
    "            # THIS CLEARS THE CURRENT OUTPUT BELOW THE CELL\n",
    "            #clear_output()\n",
    "            \n",
    "            print(\"Sorry, I didn't understand. Please make sure to choose Y or N.\")\n",
    "            \n",
    "    \n",
    "    # Optionally you can clear everything after running the function\n",
    "    # clear_output()\n",
    "    \n",
    "    if choice == \"Y\":\n",
    "        # Game is still on\n",
    "        return True\n",
    "    else:\n",
    "        # Game is over\n",
    "        return False\n"
   ]
  },
  {
   "cell_type": "code",
   "execution_count": 33,
   "metadata": {},
   "outputs": [
    {
     "name": "stdout",
     "output_type": "stream",
     "text": [
      "Would you like to keep playing? Y or N n\n",
      "Sorry, I didn't understand. Please make sure to choose Y or N.\n",
      "Would you like to keep playing? Y or N N\n"
     ]
    }
   ],
   "source": [
    "gameon=True\n",
    "\n",
    "while gameon:\n",
    "    gameon=gameon_choice()"
   ]
  }
 ],
 "metadata": {
  "kernelspec": {
   "display_name": "Python 3",
   "language": "python",
   "name": "python3"
  },
  "language_info": {
   "codemirror_mode": {
    "name": "ipython",
    "version": 3
   },
   "file_extension": ".py",
   "mimetype": "text/x-python",
   "name": "python",
   "nbconvert_exporter": "python",
   "pygments_lexer": "ipython3",
   "version": "3.8.5"
  }
 },
 "nbformat": 4,
 "nbformat_minor": 4
}
