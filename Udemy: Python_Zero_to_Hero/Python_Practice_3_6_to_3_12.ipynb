{
 "cells": [
  {
   "cell_type": "markdown",
   "metadata": {},
   "source": [
    "# Week of 3/6 to 3/12\n",
    "\n",
    "## Practice 3/10/23"
   ]
  },
  {
   "cell_type": "markdown",
   "metadata": {},
   "source": [
    "### We are going to practice Try and Except clauses "
   ]
  },
  {
   "cell_type": "markdown",
   "metadata": {},
   "source": [
    "#### V1. Initial attempt "
   ]
  },
  {
   "cell_type": "code",
   "execution_count": 4,
   "metadata": {},
   "outputs": [
    {
     "name": "stdout",
     "output_type": "stream",
     "text": [
      "Please provide me with two nunmbers to add\n",
      "First number:w\n",
      "Whoops! The first number you gave isn't an integer\n",
      "Thank you for the first integer. please give me another.\n",
      "Whoops! The second number you gave isn't an integer\n"
     ]
    }
   ],
   "source": [
    "while True:\n",
    "    try: \n",
    "        print(\"Please provide me with two nunmbers to add\")\n",
    "        \n",
    "        int1=int(input(\"First number:\"))\n",
    "    except:\n",
    "        print(\"Whoops! The first number you gave isn't an integer\")\n",
    "        \n",
    "    try:\n",
    "        print(\"Thank you for the first integer. please give me another.\")\n",
    "        \n",
    "        int2=int(input(\"Second number:\"))\n",
    "    except:\n",
    "        print(\"Whoops! The second number you gave isn't an integer\")\n",
    "        break\n",
    "    else:\n",
    "        \n",
    "        \n",
    "        print(f\"The sum of {int1} + {int2}= {int1+int2}\")\n",
    "        break\n",
    "    \n",
    "    \n",
    "    "
   ]
  },
  {
   "cell_type": "markdown",
   "metadata": {},
   "source": [
    "#### V2. Second Attempt. I thought about the need for the second While loop.  \n",
    "#### ChatGpt gave the idea of taking the final print statement to the bottom out of the final loop. "
   ]
  },
  {
   "cell_type": "code",
   "execution_count": 6,
   "metadata": {},
   "outputs": [
    {
     "name": "stdout",
     "output_type": "stream",
     "text": [
      "Please provide an integer for the first number: e\n",
      "Whoops! That's not an integer. Try again.\n",
      "Please provide an integer for the first number: e\n",
      "Whoops! That's not an integer. Try again.\n",
      "Please provide an integer for the first number: e\n",
      "Whoops! That's not an integer. Try again.\n",
      "Please provide an integer for the first number: 1\n",
      "Please provide an integer for the second number: 2\n",
      "The sum of 1 + 2= 3\n"
     ]
    }
   ],
   "source": [
    "while True:\n",
    "    try: \n",
    "        int1=int(input(\"Please provide an integer for the first number: \"))\n",
    "        break\n",
    "    except:\n",
    "        print(\"Whoops! That's not an integer. Try again.\")\n",
    "        \n",
    "while True:\n",
    "    try:\n",
    "        int2=int(input(\"Please provide an integer for the second number: \"))\n",
    "        break\n",
    "    except:\n",
    "        print(\"Whoops! That's not an integer. Try again.\")\n",
    "        \n",
    "print(f\"The sum of {int1} + {int2}= {int1+int2}\")\n"
   ]
  }
 ],
 "metadata": {
  "kernelspec": {
   "display_name": "Python 3",
   "language": "python",
   "name": "python3"
  },
  "language_info": {
   "codemirror_mode": {
    "name": "ipython",
    "version": 3
   },
   "file_extension": ".py",
   "mimetype": "text/x-python",
   "name": "python",
   "nbconvert_exporter": "python",
   "pygments_lexer": "ipython3",
   "version": "3.8.5"
  }
 },
 "nbformat": 4,
 "nbformat_minor": 4
}
